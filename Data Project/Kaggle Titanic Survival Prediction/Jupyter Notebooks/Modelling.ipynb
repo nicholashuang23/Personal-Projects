{
 "cells": [
  {
   "cell_type": "code",
   "execution_count": 2,
   "id": "160adcde",
   "metadata": {},
   "outputs": [],
   "source": [
    "from sklearn.model_selection import cross_val_score\n",
    "from sklearn.naive_bayes import GaussianNB\n",
    "from sklearn.linear_model import LogisticRegression\n",
    "from sklearn import tree\n",
    "from sklearn.neighbors import KNeighborsClassifier\n",
    "from sklearn.ensemble import RandomForestClassifier\n",
    "from sklearn.svm import SVC\n",
    "from xgboost import XGBClassifier\n",
    "from sklearn.ensemble import VotingClassifier\n",
    "import pandas as pd"
   ]
  },
  {
   "cell_type": "code",
   "execution_count": 7,
   "id": "0e3b7f1d",
   "metadata": {},
   "outputs": [],
   "source": [
    "# Load data\n",
    "\n",
    "X_train = pd.read_pickle(\"../Data/X_train.pkl\")\n",
    "X_test = pd.read_pickle(\"../Data/X_test.pkl\")\n",
    "y_train = pd.read_pickle(\"../Data/y_train.pkl\")"
   ]
  },
  {
   "cell_type": "code",
   "execution_count": 8,
   "id": "ec38703c",
   "metadata": {},
   "outputs": [
    {
     "name": "stdout",
     "output_type": "stream",
     "text": [
      "[0.70786517 0.76404494 0.78089888 0.79213483 0.8079096 ]\n",
      "0.7705706849488987\n"
     ]
    }
   ],
   "source": [
    "# Create Gaussian Naive Bayes model and perform cross validation\n",
    "\n",
    "gnb = GaussianNB()\n",
    "cv_gnb = cross_val_score(gnb, X_train, y_train, cv = 5)\n",
    "print(cv_gnb)\n",
    "print(cv_gnb.mean())"
   ]
  },
  {
   "cell_type": "code",
   "execution_count": null,
   "id": "c4a2ae3e",
   "metadata": {},
   "outputs": [],
   "source": [
    "# Create Logistic Regression model and perform cross validation\n",
    "\n",
    "log_reg = LogisticRegression()\n",
    "cv_log_reg = cross_val_score(log_reg, X_train, y_train, cv = 5)\n",
    "print(cv_log_reg)\n",
    "print(cv_log_reg.mean())"
   ]
  },
  {
   "cell_type": "code",
   "execution_count": null,
   "id": "e1d92fc4",
   "metadata": {},
   "outputs": [],
   "source": [
    "# Create Decision Tree model and perform cross validation\n",
    "\n",
    "dt = tree.DecisionTreeClassifier(random_state = 1)\n",
    "cv_dt = cross_val_score(dt, X_train, y_train, cv = 5)\n",
    "print(cv_dt)\n",
    "print(cv_dt.mean())"
   ]
  },
  {
   "cell_type": "code",
   "execution_count": null,
   "id": "a41275aa",
   "metadata": {},
   "outputs": [],
   "source": [
    "# Create K Nearest Neighbour model and perform cross validation\n",
    "\n",
    "knn = KNeighborsClassifier()\n",
    "cv_knn = cross_val_score(knn, X_train, y_train, cv = 5)\n",
    "print(cv_knn)\n",
    "print(cv_knn.mean())"
   ]
  },
  {
   "cell_type": "code",
   "execution_count": null,
   "id": "270f9590",
   "metadata": {},
   "outputs": [],
   "source": [
    "# Create Random Forest model and perform cross validation\n",
    "\n",
    "rf = RandomForestClassifier()\n",
    "cv_rf = cross_val_score(rf, X_train, y_train, cv = 5)\n",
    "print(cv_rf)\n",
    "print(cv_rf.mean())"
   ]
  },
  {
   "cell_type": "code",
   "execution_count": null,
   "id": "479708a0",
   "metadata": {},
   "outputs": [],
   "source": [
    "# Create Support Vector Classifier model and perform cross validation\n",
    "\n",
    "svc = SVC(probability = True)\n",
    "cv_svc = cross_val_score(svc, X_train, y_train, cv = 5)\n",
    "print(cv_svc)\n",
    "print(cv_svc.mean())"
   ]
  },
  {
   "cell_type": "code",
   "execution_count": null,
   "id": "ea5ef416",
   "metadata": {},
   "outputs": [],
   "source": [
    "# Create XGBoost model and perform cross validation\n",
    "\n",
    "xgb = XGBClassifier(random_state = 1)\n",
    "cv_xgb = cross_val_score(xgb, X_train, y_train, cv = 5)\n",
    "print(cv_xgb)\n",
    "print(cv_xgb.mean())"
   ]
  },
  {
   "cell_type": "code",
   "execution_count": null,
   "id": "482cf2bc",
   "metadata": {},
   "outputs": [],
   "source": [
    "# Create Voting Classifier model and perform cross validation\n",
    "\n",
    "\n",
    "votingclr = VotingClassifier(estimators = [('lr', log_reg), ('gnb', gnb), ('rf', rf), ('knn', knn),\n",
    "                                           ('svc', svc), ('xgb', xgb)], voting = 'soft')\n",
    "\n",
    "cv_votingclr = cross_val_score(votingclr, X_train, y_train, cv = 5)\n",
    "print(cv_votingclr)\n",
    "print(cv_votingclr.mean())"
   ]
  },
  {
   "cell_type": "code",
   "execution_count": null,
   "id": "87bf8686",
   "metadata": {},
   "outputs": [],
   "source": [
    "# Use the best model from the voting classifer to make predictions\n",
    "\n",
    "votingclr.fit(X_train, y_train)\n",
    "y_test = votingclr.predict(X_test).astype(int)\n",
    "base_submission = {'PassengerId': X_test.index, 'Survived': y_test}\n",
    "basic_submission = pd.DataFrame(data = base_submission)\n",
    "basic_submission.to_csv('../Submissions/basic_submission.csv', index = False)"
   ]
  }
 ],
 "metadata": {
  "kernelspec": {
   "display_name": "Python 3 (ipykernel)",
   "language": "python",
   "name": "python3"
  },
  "language_info": {
   "codemirror_mode": {
    "name": "ipython",
    "version": 3
   },
   "file_extension": ".py",
   "mimetype": "text/x-python",
   "name": "python",
   "nbconvert_exporter": "python",
   "pygments_lexer": "ipython3",
   "version": "3.9.7"
  }
 },
 "nbformat": 4,
 "nbformat_minor": 5
}
