{
 "cells": [
  {
   "cell_type": "code",
   "execution_count": 1,
   "id": "b635e788",
   "metadata": {},
   "outputs": [],
   "source": [
    "from sklearn.model_selection import GridSearchCV\n",
    "from sklearn.model_selection import RandomizedSearchCV\n",
    "from sklearn.model_selection import cross_val_score\n",
    "from sklearn.naive_bayes import GaussianNB\n",
    "from sklearn.linear_model import LogisticRegression\n",
    "from sklearn import tree\n",
    "from sklearn.neighbors import KNeighborsClassifier\n",
    "from sklearn.ensemble import RandomForestClassifier\n",
    "from sklearn.svm import SVC\n",
    "from xgboost import XGBClassifier\n",
    "from sklearn.ensemble import VotingClassifier\n",
    "import pandas as pd\n",
    "import numpy as np"
   ]
  },
  {
   "cell_type": "code",
   "execution_count": 2,
   "id": "9ffc0f91",
   "metadata": {},
   "outputs": [],
   "source": [
    "# Load data\n",
    "\n",
    "X_train = pd.read_pickle(\"../Data/X_train.pkl\")\n",
    "X_test = pd.read_pickle(\"../Data/X_test.pkl\")\n",
    "y_train = pd.read_pickle(\"../Data/y_train.pkl\")"
   ]
  },
  {
   "cell_type": "code",
   "execution_count": 3,
   "id": "f31d0ecb",
   "metadata": {},
   "outputs": [],
   "source": [
    "# Prints the parameters leading to the highest score of a model\n",
    "\n",
    "def clf_performance(clf, model_name):\n",
    "    print(model_name)\n",
    "    print('Best Score: ' + str(clf.best_score_))\n",
    "    print('Best Parameters: ' + str(clf.best_params_))"
   ]
  },
  {
   "cell_type": "code",
   "execution_count": 4,
   "id": "6b4aecb2",
   "metadata": {},
   "outputs": [
    {
     "name": "stdout",
     "output_type": "stream",
     "text": [
      "Fitting 5 folds for each of 40 candidates, totalling 200 fits\n",
      "Logistic Regression\n",
      "Best Score: 0.7953088300641149\n",
      "Best Parameters: {'C': 0.03359818286283781, 'max_iter': 2000, 'penalty': 'l2', 'solver': 'liblinear'}\n"
     ]
    }
   ],
   "source": [
    "# Find the particular parameters that lead to the highest score\n",
    "\n",
    "lr = LogisticRegression()\n",
    "param_grid = {\n",
    "    'max_iter': [2000],\n",
    "    'penalty': ['l1', 'l2'],\n",
    "    'C': np.logspace(-4,4,20),\n",
    "    'solver': ['liblinear']\n",
    "    \n",
    "}\n",
    "\n",
    "clf_lr = GridSearchCV(lr, param_grid = param_grid, cv = 5, verbose = True, n_jobs = -1)\n",
    "clf_lr_best = clf_lr.fit(X_train, y_train)\n",
    "clf_performance(clf_lr_best, 'Logistic Regression')"
   ]
  },
  {
   "cell_type": "code",
   "execution_count": 5,
   "id": "57b82fc5",
   "metadata": {},
   "outputs": [
    {
     "name": "stdout",
     "output_type": "stream",
     "text": [
      "Fitting 5 folds for each of 48 candidates, totalling 240 fits\n",
      "KNN\n",
      "Best Score: 0.8155462451596522\n",
      "Best Parameters: {'algorithm': 'auto', 'n_neighbors': 5, 'p': 2, 'weights': 'uniform'}\n"
     ]
    }
   ],
   "source": [
    "# Find the particular parameters that lead to the highest score\n",
    "\n",
    "knn = KNeighborsClassifier()\n",
    "param_grid = {\n",
    "    'n_neighbors': [3,5,7,9],\n",
    "    'weights' : ['uniform', 'distance'],\n",
    "    'algorithm': ['auto', 'ball_tree', 'kd_tree'],\n",
    "    'p': [1,2]\n",
    "    \n",
    "}\n",
    "\n",
    "clf_knn = GridSearchCV(knn, param_grid = param_grid, cv = 5, verbose = True, n_jobs = -1)\n",
    "best_clf_knn = clf_knn.fit(X_train, y_train)\n",
    "clf_performance(best_clf_knn, 'KNN')"
   ]
  },
  {
   "cell_type": "code",
   "execution_count": 6,
   "id": "248f6c84",
   "metadata": {},
   "outputs": [
    {
     "name": "stdout",
     "output_type": "stream",
     "text": [
      "Fitting 5 folds for each of 55 candidates, totalling 275 fits\n",
      "SVC\n",
      "Best Score: 0.8234431536850124\n",
      "Best Parameters: {'C': 1, 'degree': 3, 'kernel': 'poly'}\n"
     ]
    }
   ],
   "source": [
    "# Find the particular parameters that lead to the highest score\n",
    "\n",
    "svc = SVC(probability = True)\n",
    "param_grid = tuned_parameters = [{'kernel': ['rbf'], 'gamma': [.1, .5, 1, 2, 5, 10], 'C': [.1,1,10,100,1000]},\n",
    "                                 {'kernel': ['linear'], 'C': [.1,1,10,100,1000]},\n",
    "                                {'kernel': ['poly'], 'degree':[2,3,4,5], 'C': [.1,1,10,100,1000]}\n",
    "                                ]\n",
    "\n",
    "clf_svc = GridSearchCV(svc, param_grid = param_grid, cv = 5, verbose = 5, n_jobs = -1)\n",
    "best_clf_svc = clf_svc.fit(X_train, y_train)\n",
    "clf_performance(best_clf_svc, 'SVC')"
   ]
  },
  {
   "cell_type": "code",
   "execution_count": 7,
   "id": "8ed1d8f7",
   "metadata": {},
   "outputs": [
    {
     "name": "stdout",
     "output_type": "stream",
     "text": [
      "Fitting 5 folds for each of 100 candidates, totalling 500 fits\n",
      "Random Forest\n",
      "Best Score: 0.8312956262299245\n",
      "Best Parameters: {'n_estimators': 100, 'min_samples_split': 5, 'min_samples_leaf': 4, 'max_features': 'auto', 'max_depth': None, 'bootstrap': False}\n"
     ]
    }
   ],
   "source": [
    "# Find the particular parameters that lead to the highest score\n",
    "\n",
    "rf = RandomForestClassifier(random_state = 1)\n",
    "param_grid =  {'n_estimators': [100,500,1000], \n",
    "                                  'bootstrap': [True,False],\n",
    "                                  'max_depth': [3,5,10,20,50,75,100,None],\n",
    "                                  'max_features': ['auto','sqrt'],\n",
    "                                  'min_samples_leaf': [1,2,4,10],\n",
    "                                  'min_samples_split': [2,5,10]}\n",
    "                                  \n",
    "clf_rf_rnd = RandomizedSearchCV(rf, param_distributions = param_grid, n_iter = 100, cv = 5, verbose = True, n_jobs = -1)\n",
    "best_clf_rf_rnd = clf_rf_rnd.fit(X_train,y_train)\n",
    "clf_performance(best_clf_rf_rnd,'Random Forest')"
   ]
  },
  {
   "cell_type": "code",
   "execution_count": 9,
   "id": "8be984cb",
   "metadata": {},
   "outputs": [
    {
     "data": {
      "text/plain": [
       "<AxesSubplot:>"
      ]
     },
     "execution_count": 9,
     "metadata": {},
     "output_type": "execute_result"
    },
    {
     "data": {
      "image/png": "[encoded data removed]",
      "text/plain": [
       "<Figure size 432x288 with 1 Axes>"
      ]
     },
     "metadata": {
      "needs_background": "light"
     },
     "output_type": "display_data"
    }
   ],
   "source": [
    "# Find the particular parameters that lead to the highest score\n",
    "\n",
    "best_rf = best_clf_rf_rnd.best_estimator_.fit(X_train, y_train)\n",
    "feat_importances = pd.Series(best_rf.feature_importances_, index = X_train.columns)\n",
    "feat_importances.nlargest(20).plot(kind = 'barh')"
   ]
  },
  {
   "cell_type": "code",
   "execution_count": 10,
   "id": "e87a6bd2",
   "metadata": {},
   "outputs": [
    {
     "name": "stdout",
     "output_type": "stream",
     "text": [
      "Fitting 5 folds for each of 1000 candidates, totalling 5000 fits\n"
     ]
    },
    {
     "name": "stderr",
     "output_type": "stream",
     "text": [
      "C:\\Users\\Nicholas\\anaconda3\\lib\\site-packages\\sklearn\\model_selection\\_search.py:922: UserWarning: One or more of the test scores are non-finite: [       nan 0.78627563        nan        nan        nan 0.78402844\n",
      "        nan 0.61754586 0.78627563 0.61754586 0.78518377 0.61754586\n",
      " 0.81217546 0.83351108        nan        nan 0.83915445        nan\n",
      "        nan        nan 0.80091411        nan        nan        nan\n",
      " 0.61754586 0.83353647        nan        nan        nan 0.81435917\n",
      " 0.82228147        nan        nan        nan        nan 0.80768108\n",
      " 0.78402209 0.78627563        nan        nan 0.80657018 0.77841046\n",
      " 0.64451216 0.80990922        nan        nan        nan 0.82005332\n",
      " 0.81552085        nan 0.82228147 0.81668254 0.78627563        nan\n",
      " 0.81215641 0.61754586 0.77841046 0.78627563        nan 0.78627563\n",
      " 0.61754586 0.79640069 0.81103282        nan 0.78627563        nan\n",
      "        nan 0.78853552 0.825684          nan 0.79867962        nan\n",
      "        nan        nan        nan 0.82004698        nan        nan\n",
      "        nan        nan 0.61754586        nan 0.79191265 0.79078271\n",
      " 0.78627563        nan 0.61754586 0.81331175 0.82565226 0.8369136\n",
      " 0.83015933        nan        nan        nan        nan 0.79641338\n",
      "        nan 0.84142703        nan 0.79753698        nan        nan\n",
      " 0.80655748        nan        nan        nan 0.83465372        nan\n",
      " 0.80203771 0.61754586 0.78627563        nan 0.78065765 0.83579001\n",
      "        nan        nan        nan        nan 0.61754586 0.61754586\n",
      " 0.61754586 0.83466006        nan        nan 0.78852282 0.8166381\n",
      "        nan        nan        nan 0.80541484        nan 0.82341776\n",
      "        nan 0.81666984        nan        nan        nan 0.78519012\n",
      "        nan        nan        nan        nan        nan 0.61754586\n",
      "        nan        nan 0.78404748        nan        nan 0.82449692\n",
      "        nan 0.61754586        nan        nan        nan        nan\n",
      " 0.78965911 0.78627563        nan        nan 0.78627563        nan\n",
      " 0.78627563 0.8290167  0.61754586        nan 0.79751793        nan\n",
      "        nan 0.82001524        nan 0.61754586 0.61754586        nan\n",
      "        nan        nan        nan        nan        nan 0.83014664\n",
      "        nan 0.78627563        nan 0.84029074        nan 0.83916079\n",
      "        nan 0.77278614 0.81213737        nan 0.61754586 0.78627563\n",
      "        nan 0.83240018        nan        nan        nan 0.83130197\n",
      " 0.83464102        nan 0.80653844        nan        nan        nan\n",
      "        nan        nan 0.80425316        nan 0.78627563        nan\n",
      "        nan 0.81216276        nan 0.61754586        nan 0.81666984\n",
      "        nan        nan        nan        nan 0.83017203        nan\n",
      "        nan        nan        nan 0.61754586        nan 0.80992827\n",
      " 0.64451216 0.82000254 0.7930172  0.81889799        nan 0.78627563\n",
      " 0.83130197        nan 0.8133181         nan        nan        nan\n",
      "        nan 0.83355551 0.7908081  0.78515838        nan 0.83801816\n",
      " 0.81331175 0.61754586 0.61754586 0.77954041        nan 0.82115787\n",
      " 0.77503967        nan        nan        nan 0.79412175        nan\n",
      " 0.78627563        nan 0.81779344        nan 0.78627563 0.83693265\n",
      "        nan        nan        nan        nan 0.83693265        nan\n",
      " 0.61754586        nan        nan        nan 0.82230051        nan\n",
      " 0.82229417        nan 0.8267949  0.81778074        nan        nan\n",
      "        nan 0.81777439        nan        nan        nan        nan\n",
      " 0.83242557        nan 0.83125754 0.61754586        nan 0.82566495\n",
      "        nan        nan 0.8380499         nan        nan        nan\n",
      " 0.83353647        nan        nan        nan 0.78403479 0.7919317\n",
      " 0.78627563        nan 0.81894242        nan        nan 0.78627563\n",
      "        nan 0.84137625 0.80990288        nan 0.78401574        nan\n",
      " 0.82793754 0.61754586        nan        nan 0.61754586        nan\n",
      "        nan 0.61754586 0.8369263         nan 0.82567765        nan\n",
      "        nan        nan 0.61754586 0.83466006 0.83241922 0.61754586\n",
      "        nan        nan 0.78627563        nan 0.64451216        nan\n",
      "        nan        nan 0.83017203        nan 0.61754586 0.83355551\n",
      " 0.61754586        nan        nan 0.77279248        nan 0.77616327\n",
      " 0.82115153 0.82452866        nan        nan 0.78627563        nan\n",
      " 0.82904844        nan        nan        nan        nan        nan\n",
      "        nan        nan 0.61754586        nan 0.61754586 0.61754586\n",
      " 0.80312956 0.77728687 0.82680124        nan 0.80654479 0.61754586\n",
      "        nan        nan 0.61754586        nan        nan 0.61754586\n",
      "        nan        nan        nan        nan        nan        nan\n",
      "        nan 0.78627563        nan 0.61754586        nan        nan\n",
      " 0.81894242 0.61754586 0.84029074        nan 0.83014664 0.83801181\n",
      " 0.82791849 0.61754586 0.83125754        nan        nan        nan\n",
      " 0.8279058         nan        nan        nan 0.79643243        nan\n",
      "        nan        nan 0.82791214 0.61754586        nan 0.82567765\n",
      " 0.82793754 0.78742462        nan        nan 0.79977782 0.79979686\n",
      "        nan        nan 0.79191265 0.61754586        nan 0.83352377\n",
      "        nan        nan        nan 0.75256776 0.81442265 0.82228147\n",
      "        nan        nan        nan 0.8290167  0.81666984        nan\n",
      "        nan        nan        nan        nan        nan        nan\n",
      "        nan        nan        nan        nan 0.61754586        nan\n",
      "        nan 0.80766203        nan        nan        nan 0.82117692\n",
      " 0.77502698        nan        nan        nan 0.61754586        nan\n",
      "        nan 0.61754586 0.82002793 0.78627563 0.78741192 0.82901035\n",
      " 0.81668254 0.82677585        nan        nan        nan 0.82341776\n",
      "        nan 0.83467276 0.83013394        nan 0.83239383 0.79078271\n",
      "        nan        nan        nan        nan 0.61754586        nan\n",
      "        nan        nan 0.82000254 0.8380245  0.83125754 0.61754586\n",
      "        nan 0.79191265        nan        nan 0.78402209 0.80316765\n",
      "        nan        nan 0.7806513  0.82453501 0.82230051 0.81778074\n",
      " 0.80653844 0.82680124 0.81554625 0.61754586        nan        nan\n",
      " 0.82561417 0.80768108        nan 0.80651939        nan        nan\n",
      " 0.8133181  0.83693265        nan        nan 0.82675046 0.61754586\n",
      " 0.8267695         nan        nan 0.82115787        nan        nan\n",
      " 0.82564591 0.61754586 0.80875389 0.61754586        nan 0.82678855\n",
      " 0.82901035        nan 0.61754586 0.61754586 0.79526439 0.77277979\n",
      " 0.83019107        nan        nan        nan        nan 0.78627563\n",
      "        nan        nan        nan 0.8278931  0.80425316 0.61754586\n",
      " 0.61754586 0.77391608        nan 0.8267949         nan 0.82228147\n",
      "        nan        nan 0.83238748 0.83017203        nan        nan\n",
      "        nan        nan 0.82564591 0.78627563        nan 0.80092046\n",
      " 0.78627563 0.81554625        nan        nan        nan        nan\n",
      " 0.78627563        nan        nan 0.61754586        nan 0.61754586\n",
      " 0.78627563 0.83241287 0.78627563        nan 0.61754586 0.79643877\n",
      "        nan        nan 0.83238113 0.61754586 0.61754586        nan\n",
      " 0.79527074        nan        nan 0.78627563        nan 0.79754333\n",
      " 0.61754586        nan 0.8133054         nan 0.61754586 0.61754586\n",
      " 0.83354917        nan        nan 0.80989653 0.78967816        nan\n",
      " 0.80992827        nan 0.61754586        nan        nan 0.82680124\n",
      " 0.81665714        nan        nan        nan 0.61754586 0.80766203\n",
      "        nan        nan 0.77503967        nan        nan        nan\n",
      " 0.80315495 0.83129563 0.61754586 0.61754586        nan 0.80763664\n",
      " 0.78067035        nan 0.82002158 0.61754586        nan        nan\n",
      " 0.78966546        nan        nan 0.79751159        nan        nan\n",
      " 0.82901035        nan        nan 0.79754333        nan        nan\n",
      "        nan        nan 0.83241287        nan        nan 0.78627563\n",
      " 0.82566495 0.79641338        nan 0.82117057 0.82228782 0.78065765\n",
      " 0.83356821 0.80653844 0.61754586 0.61754586        nan 0.83237479\n",
      " 0.82226877 0.78627563        nan 0.81215007 0.77728687        nan\n",
      "        nan 0.61754586        nan 0.83575827        nan 0.80879832\n",
      " 0.83466641        nan 0.78627563        nan 0.81892338 0.77279248\n",
      " 0.82903574 0.77728687        nan        nan 0.82005332        nan\n",
      "        nan 0.80314861 0.82680124        nan        nan 0.82003428\n",
      " 0.80090776 0.829004   0.80990288        nan        nan 0.81216276\n",
      " 0.77391608        nan 0.8155272  0.82114518 0.81216276 0.80990288\n",
      " 0.83464102        nan        nan        nan 0.74919698 0.78515203\n",
      " 0.78627563 0.78627563 0.61754586        nan        nan        nan\n",
      " 0.82455405 0.78852282        nan 0.75237732 0.84030343        nan\n",
      " 0.61754586        nan        nan        nan        nan        nan\n",
      "        nan 0.78627563        nan 0.80314861 0.78740557        nan\n",
      "        nan        nan 0.80879198        nan        nan 0.82567765\n",
      "        nan        nan 0.83129563        nan        nan 0.79302355\n",
      " 0.81438456 0.78627563 0.81444169 0.82338602 0.78404114        nan\n",
      " 0.82788675        nan        nan 0.82449692        nan 0.8279058\n",
      "        nan        nan 0.83693265 0.8020504  0.81889799 0.8267949\n",
      "        nan 0.61754586 0.78627563 0.79191265 0.68159081        nan\n",
      "        nan 0.82114518 0.78741827        nan 0.83466641        nan\n",
      "        nan        nan 0.61754586 0.61754586 0.84029074        nan\n",
      "        nan 0.83579001 0.83241287        nan 0.83354917        nan\n",
      "        nan        nan        nan 0.83017203 0.82567765 0.61754586\n",
      " 0.61754586 0.78627563 0.82452231        nan        nan        nan\n",
      "        nan        nan 0.71548911 0.84141433        nan 0.61754586\n",
      "        nan        nan        nan 0.61754586        nan        nan\n",
      "        nan        nan 0.81325462 0.77616327 0.74919698        nan\n",
      "        nan 0.61754586        nan 0.61754586        nan        nan\n",
      "        nan        nan 0.83241922 0.78627563        nan        nan\n",
      "        nan 0.77507141 0.83688186        nan        nan 0.61754586\n",
      "        nan        nan 0.61754586        nan        nan        nan\n",
      "        nan        nan        nan 0.83801181        nan 0.61754586\n",
      "        nan 0.61754586        nan 0.77391608 0.7941281  0.82112613\n",
      "        nan 0.61754586 0.83688821        nan 0.81218815        nan\n",
      " 0.82342411 0.80090776 0.80205675 0.61754586        nan 0.78741192\n",
      "        nan 0.79981591        nan 0.8267695  0.79979052        nan\n",
      "        nan        nan 0.81778709        nan        nan        nan\n",
      "        nan 0.81329271 0.82115787        nan        nan 0.80318035\n",
      "        nan 0.83012759 0.83240653        nan 0.81218815        nan\n",
      "        nan        nan        nan 0.82899765        nan 0.8155272\n",
      "        nan 0.61754586 0.79641973 0.79641973        nan        nan\n",
      "        nan 0.61754586        nan 0.81328636 0.78853552 0.81552085\n",
      "        nan        nan        nan        nan 0.82454136 0.81888529\n",
      "        nan 0.67841046        nan        nan        nan        nan\n",
      "        nan 0.83128293        nan 0.78627563        nan 0.61754586\n",
      "        nan 0.77503967        nan 0.81891703        nan 0.61754586\n",
      "        nan        nan 0.61754586        nan        nan 0.61754586\n",
      "        nan 0.8133054         nan 0.61754586        nan 0.77728687\n",
      "        nan 0.81660636 0.82902939        nan 0.79866057 0.83017203\n",
      "        nan        nan        nan        nan 0.83354282        nan\n",
      "        nan 0.61754586        nan        nan        nan 0.81888529\n",
      " 0.83015299 0.61754586 0.61754586 0.61754586        nan 0.61754586\n",
      "        nan        nan        nan        nan 0.81893608 0.8358027\n",
      " 0.81550816        nan        nan 0.82112613 0.79309973 0.81667619\n",
      " 0.80540215        nan 0.81779344 0.61754586]\n",
      "  warnings.warn(\n"
     ]
    },
    {
     "name": "stdout",
     "output_type": "stream",
     "text": [
      "XGB\n",
      "Best Score: 0.8414270297721069\n",
      "Best Parameters: {'subsample': 0.8, 'sampling_method': 'uniform', 'reg_lambda': 2, 'reg_alpha': 0, 'n_estimators': 500, 'min_child_weight': 0.1, 'max_depth': 10, 'learning_rate': 0.01, 'gamma': 0.1, 'colsample_bytree': 0.8}\n"
     ]
    }
   ],
   "source": [
    "# Find the particular parameters that lead to the highest score\n",
    "\n",
    "xgb = XGBClassifier(random_state = 1)\n",
    "\n",
    "param_grid = {\n",
    "    'n_estimators': [20, 50, 100, 250, 500,1000],\n",
    "    'colsample_bytree': [0.2, 0.5, 0.7, 0.8, 1],\n",
    "    'max_depth': [2, 5, 10, 15, 20, 25, None],\n",
    "    'reg_alpha': [0, 0.5, 1],\n",
    "    'reg_lambda': [1, 1.5, 2],\n",
    "    'subsample': [0.5,0.6,0.7, 0.8, 0.9],\n",
    "    'learning_rate':[.01,0.1,0.2,0.3,0.5, 0.7, 0.9],\n",
    "    'gamma':[0,.01,.1,1,10,100],\n",
    "    'min_child_weight':[0,.01,0.1,1,10,100],\n",
    "    'sampling_method': ['uniform', 'gradient_based']\n",
    "}\n",
    "\n",
    "#clf_xgb = GridSearchCV(xgb, param_grid = param_grid, cv = 5, verbose = True, n_jobs = -1)\n",
    "#best_clf_xgb = clf_xgb.fit(X_train_scaled,y_train)\n",
    "#clf_performance(best_clf_xgb,'XGB')\n",
    "clf_xgb_rnd = RandomizedSearchCV(xgb, param_distributions = param_grid, n_iter = 1000, cv = 5, verbose = True, n_jobs = -1)\n",
    "best_clf_xgb_rnd = clf_xgb_rnd.fit(X_train,y_train)\n",
    "clf_performance(best_clf_xgb_rnd,'XGB')"
   ]
  },
  {
   "cell_type": "code",
   "execution_count": 11,
   "id": "ca22ba7a",
   "metadata": {},
   "outputs": [
    {
     "name": "stdout",
     "output_type": "stream",
     "text": [
      "Fitting 5 folds for each of 243 candidates, totalling 1215 fits\n",
      "XGB\n",
      "Best Score: 0.8425315812861042\n",
      "Best Parameters: {'colsample_bytree': 0.85, 'gamma': 0.5, 'learning_rate': 0.5, 'max_depth': None, 'min_child_weight': 0.01, 'n_estimators': 450, 'reg_alpha': 1, 'reg_lambda': 10, 'sampling_method': 'uniform', 'subsample': 0.65}\n"
     ]
    }
   ],
   "source": [
    "# Find the particular parameters that lead to the highest score\n",
    "\n",
    "xgb = XGBClassifier(random_state = 1)\n",
    "\n",
    "param_grid = {\n",
    "    'n_estimators': [450,500,550],\n",
    "    'colsample_bytree': [0.75,0.8,0.85],\n",
    "    'max_depth': [None],\n",
    "    'reg_alpha': [1],\n",
    "    'reg_lambda': [2, 5, 10],\n",
    "    'subsample': [0.55, 0.6, .65],\n",
    "    'learning_rate':[0.5],\n",
    "    'gamma':[.5,1,2],\n",
    "    'min_child_weight':[0.01],\n",
    "    'sampling_method': ['uniform']\n",
    "}\n",
    "\n",
    "clf_xgb = GridSearchCV(xgb, param_grid = param_grid, cv = 5, verbose = True, n_jobs = -1)\n",
    "best_clf_xgb = clf_xgb.fit(X_train,y_train)\n",
    "clf_performance(best_clf_xgb,'XGB')\n",
    "\n"
   ]
  },
  {
   "cell_type": "code",
   "execution_count": 12,
   "id": "1662b544",
   "metadata": {},
   "outputs": [],
   "source": [
    "# Make a prediction based on the best xgb model\n",
    "\n",
    "y_hat_xgb = best_clf_xgb.best_estimator_.predict(X_test).astype(int)\n",
    "xgb_submission = {'PassengerId': X_test.index, 'Survived': y_hat_xgb}\n",
    "submission_xgb = pd.DataFrame(data = xgb_submission)\n",
    "submission_xgb.to_csv('../Submissions/sgb_submission.csv', index = False)"
   ]
  },
  {
   "cell_type": "code",
   "execution_count": 14,
   "id": "22b7816c",
   "metadata": {},
   "outputs": [
    {
     "name": "stdout",
     "output_type": "stream",
     "text": [
      "voting_clf_hard:  [0.80898876 0.79213483 0.85955056 0.79775281 0.85310734]\n",
      "voting_clf_hard:  0.8223068621849807\n",
      "voting_clf_soft:  [0.79213483 0.80898876 0.82022472 0.79213483 0.8700565 ]\n",
      "voting_clf_soft:  0.8178315241541293\n",
      "voting_clf_all:  [0.81460674 0.80898876 0.84831461 0.79775281 0.86440678]\n",
      "voting_clf_all:  0.8268139402018664\n"
     ]
    }
   ],
   "source": [
    "# Use a voting classifier to find the best scores using all the different models\n",
    "\n",
    "best_lr = clf_lr_best.best_estimator_\n",
    "best_knn = best_clf_knn.best_estimator_\n",
    "best_svc = best_clf_svc.best_estimator_\n",
    "best_rf = best_clf_rf_rnd.best_estimator_\n",
    "best_xgb = best_clf_xgb.best_estimator_\n",
    "\n",
    "voting_clf_hard = VotingClassifier(estimators = [('knn', best_knn), ('rf', best_rf), ('svc', best_svc)], voting = 'hard')\n",
    "voting_clf_soft = VotingClassifier(estimators = [('knn', best_knn), ('svc', best_svc), ('rf', best_rf)], voting = 'soft')\n",
    "\n",
    "voting_clf_all = VotingClassifier(estimators = [('knn', best_knn), ('svc', best_svc), ('rf', best_rf), ('xgb', best_xgb), ('lr', best_lr)\n",
    "    ], voting = 'soft')\n",
    "\n",
    "print('voting_clf_hard: ', cross_val_score(voting_clf_hard, X_train, y_train, cv = 5))\n",
    "print('voting_clf_hard: ', cross_val_score(voting_clf_hard, X_train, y_train, cv = 5).mean())\n",
    "\n",
    "print('voting_clf_soft: ', cross_val_score(voting_clf_soft, X_train, y_train, cv = 5))\n",
    "print('voting_clf_soft: ', cross_val_score(voting_clf_soft, X_train, y_train, cv = 5).mean())\n",
    "\n",
    "print('voting_clf_all: ', cross_val_score(voting_clf_all, X_train, y_train, cv = 5))\n",
    "print('voting_clf_all: ', cross_val_score(voting_clf_all, X_train, y_train, cv = 5).mean())\n",
    "\n"
   ]
  },
  {
   "cell_type": "code",
   "execution_count": 15,
   "id": "40edfce7",
   "metadata": {},
   "outputs": [
    {
     "name": "stdout",
     "output_type": "stream",
     "text": [
      "Fitting 5 folds for each of 7 candidates, totalling 35 fits\n",
      "VC Weights\n",
      "Best Score: 0.8223259061766013\n",
      "Best Parameters: {'weights': [1, 1, 2]}\n"
     ]
    }
   ],
   "source": [
    "# Use a voting classifier to find the best scores using all the different models with different weights for models\n",
    "\n",
    "params = {'weights': [[1,1,1], [1,2,1], [1,1,2], [2,1,1], [2,2,1], [2,1,2], [1,2,2]]}\n",
    "\n",
    "vote_weight = GridSearchCV(voting_clf_soft, param_grid = params, cv=5, verbose = True, n_jobs = -1)\n",
    "best_clf_weight = vote_weight.fit(X_train, y_train)\n",
    "clf_performance(best_clf_weight, 'VC Weights')\n",
    "voting_clf_sub = best_clf_weight.best_estimator_.predict(X_test)"
   ]
  },
  {
   "cell_type": "code",
   "execution_count": 16,
   "id": "1fb84ef3",
   "metadata": {},
   "outputs": [],
   "source": [
    "# Find the scores for each voting classifier\n",
    "\n",
    "voting_clf_hard.fit(X_train, y_train)\n",
    "voting_clf_soft.fit(X_train, y_train)\n",
    "voting_clf_all.fit(X_train, y_train)\n",
    "\n",
    "best_rf.fit(X_train, y_train)\n",
    "y_hat_vc_hard = voting_clf_hard.predict(X_test).astype(int)\n",
    "y_hat_rf = best_rf.predict(X_test).astype(int)\n",
    "y_hat_vc_soft = voting_clf_soft.predict(X_test).astype(int)\n",
    "y_hat_vc_all = voting_clf_all.predict(X_test).astype(int)\n"
   ]
  },
  {
   "cell_type": "code",
   "execution_count": 17,
   "id": "7047b96d",
   "metadata": {},
   "outputs": [],
   "source": [
    "# Make submissions based on the different voting classifiers\n",
    "\n",
    "final_data = {'PassengerId': X_test.index, 'Survived': y_hat_rf}\n",
    "submission = pd.DataFrame(data=final_data)\n",
    "\n",
    "final_data_2 = {'PassengerId': X_test.index, 'Survived': y_hat_vc_hard}\n",
    "submission_2 = pd.DataFrame(data=final_data_2)\n",
    "\n",
    "final_data_3 = {'PassengerId': X_test.index, 'Survived': y_hat_vc_soft}\n",
    "submission_3 = pd.DataFrame(data=final_data_3)\n",
    "\n",
    "final_data_4 = {'PassengerId': X_test.index, 'Survived': y_hat_vc_all}\n",
    "submission_4 = pd.DataFrame(data=final_data_4)\n",
    "\n",
    "final_data_comp = {'PassengerId': X_test.index, 'Survived_vc_hard': y_hat_vc_hard, 'Survived_rf': y_hat_rf, 'Survived_vc_soft' : y_hat_vc_soft, 'Survived_vc_all' : y_hat_vc_all,  }\n",
    "comparison = pd.DataFrame(data=final_data_comp)"
   ]
  },
  {
   "cell_type": "code",
   "execution_count": 18,
   "id": "45b21bcb",
   "metadata": {},
   "outputs": [],
   "source": [
    "# Compare the voting classifiers\n",
    "\n",
    "comparison['difference_rf_vc_hard'] = comparison.apply(lambda x: 1 if x.Survived_vc_hard != x.Survived_rf else 0, axis =1)\n",
    "comparison['difference_soft_hard'] = comparison.apply(lambda x: 1 if x.Survived_vc_hard != x.Survived_vc_soft else 0, axis =1)\n",
    "comparison['difference_hard_all'] = comparison.apply(lambda x: 1 if x.Survived_vc_all != x.Survived_vc_hard else 0, axis =1)"
   ]
  },
  {
   "cell_type": "code",
   "execution_count": 19,
   "id": "afc60200",
   "metadata": {},
   "outputs": [
    {
     "data": {
      "text/plain": [
       "0    396\n",
       "1     22\n",
       "Name: difference_hard_all, dtype: int64"
      ]
     },
     "execution_count": 19,
     "metadata": {},
     "output_type": "execute_result"
    }
   ],
   "source": [
    "comparison.difference_hard_all.value_counts()"
   ]
  },
  {
   "cell_type": "code",
   "execution_count": null,
   "id": "4ebd17b3",
   "metadata": {},
   "outputs": [],
   "source": []
  },
  {
   "cell_type": "code",
   "execution_count": null,
   "id": "8c80d5a9",
   "metadata": {},
   "outputs": [],
   "source": []
  }
 ],
 "metadata": {
  "kernelspec": {
   "display_name": "Python 3 (ipykernel)",
   "language": "python",
   "name": "python3"
  },
  "language_info": {
   "codemirror_mode": {
    "name": "ipython",
    "version": 3
   },
   "file_extension": ".py",
   "mimetype": "text/x-python",
   "name": "python",
   "nbconvert_exporter": "python",
   "pygments_lexer": "ipython3",
   "version": "3.9.7"
  }
 },
 "nbformat": 4,
 "nbformat_minor": 5
}
